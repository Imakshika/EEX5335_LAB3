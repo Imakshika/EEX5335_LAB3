{
  "nbformat": 4,
  "nbformat_minor": 0,
  "metadata": {
    "colab": {
      "provenance": []
    },
    "kernelspec": {
      "name": "python3",
      "display_name": "Python 3"
    },
    "language_info": {
      "name": "python"
    }
  },
  "cells": [
    {
      "cell_type": "code",
      "execution_count": null,
      "metadata": {
        "id": "J17ciQ_UpDFR"
      },
      "outputs": [],
      "source": [
        "# EEX5335 Lab 3 - Memory Management Simulator\n",
        "# Student: N.W.A.I.U.Karunathilaka\n",
        "# Reg. No: 320259034"
      ]
    },
    {
      "cell_type": "code",
      "source": [
        "# Parameters\n",
        "PAGE_SIZE = 4096       # 4KB page size (in bytes)\n",
        "VIRTUAL_ADDR_SPACE = 16 * 1024  # 16KB virtual address space (16-bit addresses)\n",
        "PHYSICAL_MEM_SIZE = 8 * 1024   # 8KB physical memory\n",
        "\n",
        "NUM_PAGES = VIRTUAL_ADDR_SPACE // PAGE_SIZE  # 4 pages\n",
        "NUM_FRAMES = PHYSICAL_MEM_SIZE // PAGE_SIZE  # 2 frames\n",
        "TLB_SIZE = 4           # TLB can hold 4 entries\n",
        "CACHE_SIZE = 64        # Cache size in bytes\n",
        "CACHE_LINE_SIZE = 16   # 16 bytes per cache line"
      ],
      "metadata": {
        "id": "W4rD3bp1pzkX"
      },
      "execution_count": null,
      "outputs": []
    },
    {
      "cell_type": "code",
      "source": [
        "# -------------------------------\n",
        "# Structures\n",
        "page_table = [-1] * NUM_PAGES  # Initialize all entries to -1 (not in memory)\n",
        "tlb = {}           # TLB: {page_number: frame_number}\n",
        "main_memory = {}   # Physical memory: {frame_number: data}\n",
        "cache = {}         # Cache: {tag: data}"
      ],
      "metadata": {
        "id": "_py8U4gBqrsq"
      },
      "execution_count": null,
      "outputs": []
    },
    {
      "cell_type": "code",
      "source": [
        "# -------------------------------\n",
        "# Initialize main memory with dummy data\n",
        "for frame in range(NUM_FRAMES):\n",
        "    main_memory[frame] = [f\"DATA_{frame}_{offset}\" for offset in range(PAGE_SIZE)]\n",
        "\n",
        "# Initialize page table with some mappings\n",
        "page_table[0] = 0  # Virtual page 0 -> Physical frame 0\n",
        "page_table[1] = 1  # Virtual page 1 -> Physical frame 1"
      ],
      "metadata": {
        "id": "-94etfOmqyNJ"
      },
      "execution_count": null,
      "outputs": []
    },
    {
      "cell_type": "code",
      "source": [
        "# -------------------------------\n",
        "# Functions\n",
        "def access_address(virtual_addr):\n",
        "    \"\"\"Simulate reading from a virtual address\"\"\"\n",
        "    # Extract page number and offset from virtual address\n",
        "    page_num = virtual_addr // PAGE_SIZE\n",
        "    offset = virtual_addr % PAGE_SIZE\n",
        "\n",
        "    print(f\"\\nAccessing Virtual Address: 0x{virtual_addr:04X}\")\n",
        "    print(f\"→ Page Number: {page_num}, Offset: {offset}\")\n",
        "\n",
        "    # Step 1: Check TLB\n",
        "    if page_num in tlb:\n",
        "        frame = tlb[page_num]\n",
        "        print(\"✅ TLB HIT → Frame:\", frame)\n",
        "    else:\n",
        "        print(\"❌ TLB MISS\")\n",
        "        # Step 2: Check Page Table\n",
        "        if page_num < len(page_table) and page_table[page_num] != -1:\n",
        "            frame = page_table[page_num]\n",
        "            print(\"✅ PAGE TABLE HIT → Frame:\", frame)\n",
        "\n",
        "            # Update TLB (FIFO replacement if full)\n",
        "            if len(tlb) >= TLB_SIZE:\n",
        "                # Remove the oldest entry\n",
        "                oldest_key = next(iter(tlb))\n",
        "                del tlb[oldest_key]\n",
        "            tlb[page_num] = frame\n",
        "        else:\n",
        "            print(\"❌ PAGE FAULT (Page not in memory)\")\n",
        "            return None\n",
        "\n",
        "    # Step 3: Calculate physical address\n",
        "    physical_addr = (frame * PAGE_SIZE) + offset\n",
        "    print(f\"→ Physical Address: 0x{physical_addr:04X}\")\n",
        "\n",
        "    # Step 4: Check Cache (simplified)\n",
        "    cache_tag = physical_addr // CACHE_LINE_SIZE\n",
        "\n",
        "    if cache_tag in cache:\n",
        "        print(\"✅ CACHE HIT\")\n",
        "        data = cache[cache_tag]\n",
        "    else:\n",
        "        print(\"❌ CACHE MISS\")\n",
        "        # Get data from main memory\n",
        "        data = main_memory[frame][offset]\n",
        "\n",
        "        # Update cache (simple direct mapping)\n",
        "        if len(cache) >= CACHE_SIZE // CACHE_LINE_SIZE:\n",
        "            # Remove a random entry (simplified)\n",
        "            cache.popitem()\n",
        "        cache[cache_tag] = data\n",
        "\n",
        "    print(\"📦 DATA:\", data)\n",
        "    return data"
      ],
      "metadata": {
        "id": "hyieLYBYq1U5"
      },
      "execution_count": null,
      "outputs": []
    },
    {
      "cell_type": "code",
      "source": [
        "# -------------------------------\n",
        "# Test simulation\n",
        "if __name__ == \"__main__\":\n",
        "    print(\"=== Memory Management Simulator ===\")\n",
        "    print(f\"Page Size: {PAGE_SIZE} bytes\")\n",
        "    print(f\"Virtual Pages: {NUM_PAGES}, Physical Frames: {NUM_FRAMES}\")\n",
        "    print(f\"TLB Size: {TLB_SIZE} entries\")\n",
        "    print(f\"Cache Size: {CACHE_SIZE} bytes ({CACHE_SIZE//CACHE_LINE_SIZE} lines)\")\n",
        "\n",
        "    # Test cases\n",
        "    access_address(0x0000)  # TLB miss, cache miss\n",
        "    access_address(0x1000)  # TLB miss, cache miss\n",
        "    access_address(0x0008)  # TLB hit, cache miss\n",
        "    access_address(0x1004)  # TLB hit, cache miss\n",
        "    access_address(0x2000)  # Page fault (page not mapped)"
      ],
      "metadata": {
        "colab": {
          "base_uri": "https://localhost:8080/"
        },
        "id": "nEp1lyhUq75B",
        "outputId": "bf1e68fa-dc88-409d-8356-a5144829bf37"
      },
      "execution_count": null,
      "outputs": [
        {
          "output_type": "stream",
          "name": "stdout",
          "text": [
            "=== Memory Management Simulator ===\n",
            "Page Size: 4096 bytes\n",
            "Virtual Pages: 4, Physical Frames: 2\n",
            "TLB Size: 4 entries\n",
            "Cache Size: 64 bytes (4 lines)\n",
            "\n",
            "Accessing Virtual Address: 0x0000\n",
            "→ Page Number: 0, Offset: 0\n",
            "❌ TLB MISS\n",
            "✅ PAGE TABLE HIT → Frame: 0\n",
            "→ Physical Address: 0x0000\n",
            "❌ CACHE MISS\n",
            "📦 DATA: DATA_0_0\n",
            "\n",
            "Accessing Virtual Address: 0x1000\n",
            "→ Page Number: 1, Offset: 0\n",
            "❌ TLB MISS\n",
            "✅ PAGE TABLE HIT → Frame: 1\n",
            "→ Physical Address: 0x1000\n",
            "❌ CACHE MISS\n",
            "📦 DATA: DATA_1_0\n",
            "\n",
            "Accessing Virtual Address: 0x0008\n",
            "→ Page Number: 0, Offset: 8\n",
            "✅ TLB HIT → Frame: 0\n",
            "→ Physical Address: 0x0008\n",
            "✅ CACHE HIT\n",
            "📦 DATA: DATA_0_0\n",
            "\n",
            "Accessing Virtual Address: 0x1004\n",
            "→ Page Number: 1, Offset: 4\n",
            "✅ TLB HIT → Frame: 1\n",
            "→ Physical Address: 0x1004\n",
            "✅ CACHE HIT\n",
            "📦 DATA: DATA_1_0\n",
            "\n",
            "Accessing Virtual Address: 0x2000\n",
            "→ Page Number: 2, Offset: 0\n",
            "❌ TLB MISS\n",
            "❌ PAGE FAULT (Page not in memory)\n"
          ]
        }
      ]
    },
    {
      "cell_type": "code",
      "source": [],
      "metadata": {
        "id": "4AcBMoncrzFP"
      },
      "execution_count": null,
      "outputs": []
    }
  ]
}